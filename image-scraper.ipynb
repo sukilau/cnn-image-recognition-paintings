{
 "cells": [
  {
   "cell_type": "code",
   "execution_count": null,
   "metadata": {
    "collapsed": false
   },
   "outputs": [
    {
     "name": "stdout",
     "output_type": "stream",
     "text": [
      "url https://www.google.co.in/search?q=van+gogh&source=lnms&tbm=isch\n",
      "there are total 100 images\n",
      "1\n",
      "2\n",
      "3\n",
      "4\n",
      "5\n",
      "6\n",
      "7\n",
      "8\n",
      "9\n",
      "10\n",
      "11\n",
      "12\n",
      "13\n",
      "14\n",
      "15\n",
      "16\n",
      "17\n",
      "18\n",
      "19\n",
      "20\n",
      "21\n",
      "22\n",
      "23\n",
      "24\n",
      "could not load : https://thumbs-prod.si-cdn.com/aQ881WO1A3-pHwImq5daD5A9B-4=/800x600/filters:no_upscale()/https://public-media.smithsonianmag.com/filer/Vincent-van-Gogh-The-Starry-Night-631.jpg\n",
      "HTTP Error 403: Forbidden\n",
      "25\n",
      "26\n",
      "27\n",
      "28\n"
     ]
    }
   ],
   "source": [
    "from bs4 import BeautifulSoup\n",
    "import requests\n",
    "import re\n",
    "import urllib.request\n",
    "import os\n",
    "import http.cookiejar\n",
    "import json\n",
    "\n",
    "def get_soup(url,header):\n",
    "    return BeautifulSoup(urllib.request.urlopen(urllib.request.Request(url,headers=header)),'html.parser')\n",
    "\n",
    "query = \"van gogh\"\n",
    "image_type=\"ActiOn\"\n",
    "query= query.split()\n",
    "query='+'.join(query)\n",
    "url=\"https://www.google.co.in/search?q=\"+query+\"&source=lnms&tbm=isch\"\n",
    "print(\"url\",url)\n",
    "\n",
    "DIR=\"Data\"\n",
    "header={'User-Agent':\"Mozilla/5.0 (Windows NT 6.1; WOW64) AppleWebKit/537.36 (KHTML, like Gecko) Chrome/43.0.2357.134 Safari/537.36\"\n",
    "}\n",
    "soup = get_soup(url,header)\n",
    "\n",
    "ActualImages=[]\n",
    "for a in soup.find_all(\"div\",{\"class\":\"rg_meta\"}):\n",
    "    link , Type =json.loads(a.text)[\"ou\"]  ,json.loads(a.text)[\"ity\"]\n",
    "    ActualImages.append((link,Type))\n",
    "\n",
    "print(\"there are total\" , len(ActualImages),\"images\")\n",
    "\n",
    "if not os.path.exists(DIR):\n",
    "            os.mkdir(DIR)\n",
    "DIR = os.path.join(DIR, query.split()[0])\n",
    "\n",
    "if not os.path.exists(DIR):\n",
    "            os.mkdir(DIR)\n",
    "        \n",
    "        \n",
    "for i , (img , Type) in enumerate( ActualImages):\n",
    "    try:\n",
    "        req = urllib.request.Request(img, headers={'User-Agent' : header})\n",
    "        raw_img = urllib.request.urlopen(req.full_url).read()\n",
    "\n",
    "        cntr = len([i for i in os.listdir(DIR) if image_type in i]) + 1\n",
    "        print(cntr)\n",
    "        if len(Type)==0:\n",
    "            f = open(os.path.join(DIR , image_type + \"_\"+ str(cntr)+\".jpg\"), 'wb')\n",
    "        else :\n",
    "            f = open(os.path.join(DIR , image_type + \"_\"+ str(cntr)+\".\"+Type), 'wb')\n",
    "\n",
    "        f.write(raw_img)\n",
    "        f.close()\n",
    "    except Exception as e:\n",
    "        print(\"could not load : \"+img)\n",
    "        print(e)"
   ]
  },
  {
   "cell_type": "code",
   "execution_count": null,
   "metadata": {
    "collapsed": true
   },
   "outputs": [],
   "source": []
  }
 ],
 "metadata": {
  "kernelspec": {
   "display_name": "Python 3",
   "language": "python",
   "name": "python3"
  },
  "language_info": {
   "codemirror_mode": {
    "name": "ipython",
    "version": 3
   },
   "file_extension": ".py",
   "mimetype": "text/x-python",
   "name": "python",
   "nbconvert_exporter": "python",
   "pygments_lexer": "ipython3",
   "version": "3.6.0"
  }
 },
 "nbformat": 4,
 "nbformat_minor": 2
}
